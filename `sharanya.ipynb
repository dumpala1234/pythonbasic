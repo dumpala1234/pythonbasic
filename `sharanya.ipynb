{
 "cells": [
  {
   "cell_type": "code",
   "execution_count": 1,
   "id": "62c79e75",
   "metadata": {},
   "outputs": [],
   "source": [
    "strings=\"sharanya\",\"car\",\"holidays\",\"bike\",\"collage\""
   ]
  },
  {
   "cell_type": "code",
   "execution_count": 2,
   "id": "105184c2",
   "metadata": {},
   "outputs": [
    {
     "ename": "SyntaxError",
     "evalue": "invalid syntax (3535763463.py, line 1)",
     "output_type": "error",
     "traceback": [
      "\u001b[1;36m  Cell \u001b[1;32mIn[2], line 1\u001b[1;36m\u001b[0m\n\u001b[1;33m    strings|\u001b[0m\n\u001b[1;37m            ^\u001b[0m\n\u001b[1;31mSyntaxError\u001b[0m\u001b[1;31m:\u001b[0m invalid syntax\n"
     ]
    }
   ],
   "source": [
    "strings|\n"
   ]
  },
  {
   "cell_type": "code",
   "execution_count": 3,
   "id": "7bdf19a7",
   "metadata": {},
   "outputs": [],
   "source": [
    "strings=\"sharanya\",\"car\",\"holidays\",\"bike\",\"collage\""
   ]
  },
  {
   "cell_type": "code",
   "execution_count": 4,
   "id": "c5f60e8e",
   "metadata": {},
   "outputs": [
    {
     "data": {
      "text/plain": [
       "('sharanya', 'car', 'holidays', 'bike', 'collage')"
      ]
     },
     "execution_count": 4,
     "metadata": {},
     "output_type": "execute_result"
    }
   ],
   "source": [
    "strings"
   ]
  },
  {
   "cell_type": "code",
   "execution_count": 5,
   "id": "c03f6f4a",
   "metadata": {},
   "outputs": [
    {
     "name": "stdout",
     "output_type": "stream",
     "text": [
      "('sharanya', 'car', 'holidays', 'bike', 'collage')\n"
     ]
    }
   ],
   "source": [
    "print(strings)"
   ]
  },
  {
   "cell_type": "code",
   "execution_count": 6,
   "id": "7d2b3632",
   "metadata": {},
   "outputs": [
    {
     "name": "stdout",
     "output_type": "stream",
     "text": [
      "sharanya\n"
     ]
    }
   ],
   "source": [
    "print(\"sharanya\")"
   ]
  },
  {
   "cell_type": "code",
   "execution_count": 7,
   "id": "cb11a8be",
   "metadata": {},
   "outputs": [
    {
     "name": "stdout",
     "output_type": "stream",
     "text": [
      "swetha\n"
     ]
    }
   ],
   "source": [
    "print(\"swetha\")"
   ]
  },
  {
   "cell_type": "code",
   "execution_count": 8,
   "id": "b6474d93",
   "metadata": {},
   "outputs": [
    {
     "name": "stdout",
     "output_type": "stream",
     "text": [
      "hari priya\n"
     ]
    }
   ],
   "source": [
    "print(\"hari priya\")"
   ]
  },
  {
   "cell_type": "code",
   "execution_count": 9,
   "id": "a715e76a",
   "metadata": {},
   "outputs": [
    {
     "name": "stdout",
     "output_type": "stream",
     "text": [
      "hyath nagar\n"
     ]
    }
   ],
   "source": [
    "print(\"hyath nagar\")"
   ]
  },
  {
   "cell_type": "code",
   "execution_count": 10,
   "id": "3ffb165a",
   "metadata": {},
   "outputs": [
    {
     "name": "stdout",
     "output_type": "stream",
     "text": [
      "keshav memorial\n"
     ]
    }
   ],
   "source": [
    "print(\"keshav memorial\")"
   ]
  },
  {
   "cell_type": "code",
   "execution_count": 11,
   "id": "a39c1b1f",
   "metadata": {},
   "outputs": [
    {
     "name": "stdout",
     "output_type": "stream",
     "text": [
      "narayanaguda\n"
     ]
    }
   ],
   "source": [
    "print(\"narayanaguda\")"
   ]
  },
  {
   "cell_type": "code",
   "execution_count": 12,
   "id": "99a29aa2",
   "metadata": {},
   "outputs": [
    {
     "name": "stdout",
     "output_type": "stream",
     "text": [
      "anaconda\n"
     ]
    }
   ],
   "source": [
    "print(\"anaconda\")"
   ]
  },
  {
   "cell_type": "code",
   "execution_count": 13,
   "id": "c6be5f73",
   "metadata": {},
   "outputs": [
    {
     "name": "stdout",
     "output_type": "stream",
     "text": [
      "shailaja\n"
     ]
    }
   ],
   "source": [
    "print(\"shailaja\")"
   ]
  },
  {
   "cell_type": "code",
   "execution_count": 14,
   "id": "ba47a7a8",
   "metadata": {},
   "outputs": [],
   "source": [
    "s1=[\"sharanya\",\"car\",\"bike\",\"book\",\"collage\"]"
   ]
  },
  {
   "cell_type": "code",
   "execution_count": 15,
   "id": "d85abc25",
   "metadata": {},
   "outputs": [
    {
     "data": {
      "text/plain": [
       "['sharanya', 'car', 'bike', 'book', 'collage']"
      ]
     },
     "execution_count": 15,
     "metadata": {},
     "output_type": "execute_result"
    }
   ],
   "source": [
    "s1"
   ]
  },
  {
   "cell_type": "code",
   "execution_count": 23,
   "id": "ffed3e5c",
   "metadata": {},
   "outputs": [
    {
     "data": {
      "text/plain": [
       "'sharanya'"
      ]
     },
     "execution_count": 23,
     "metadata": {},
     "output_type": "execute_result"
    }
   ],
   "source": [
    "s1[0]"
   ]
  },
  {
   "cell_type": "code",
   "execution_count": 17,
   "id": "ce317187",
   "metadata": {},
   "outputs": [
    {
     "data": {
      "text/plain": [
       "'sharanya'"
      ]
     },
     "execution_count": 17,
     "metadata": {},
     "output_type": "execute_result"
    }
   ],
   "source": [
    "s1[0]"
   ]
  },
  {
   "cell_type": "code",
   "execution_count": 18,
   "id": "0037c6c3",
   "metadata": {},
   "outputs": [
    {
     "data": {
      "text/plain": [
       "'car'"
      ]
     },
     "execution_count": 18,
     "metadata": {},
     "output_type": "execute_result"
    }
   ],
   "source": [
    "s1[1]"
   ]
  },
  {
   "cell_type": "code",
   "execution_count": 19,
   "id": "a24bc6c9",
   "metadata": {},
   "outputs": [
    {
     "data": {
      "text/plain": [
       "'bike'"
      ]
     },
     "execution_count": 19,
     "metadata": {},
     "output_type": "execute_result"
    }
   ],
   "source": [
    "s1[2]"
   ]
  },
  {
   "cell_type": "code",
   "execution_count": 20,
   "id": "05755a9d",
   "metadata": {},
   "outputs": [
    {
     "data": {
      "text/plain": [
       "'book'"
      ]
     },
     "execution_count": 20,
     "metadata": {},
     "output_type": "execute_result"
    }
   ],
   "source": [
    "s1[3]\n",
    "  "
   ]
  },
  {
   "cell_type": "code",
   "execution_count": 21,
   "id": "8366d596",
   "metadata": {},
   "outputs": [
    {
     "data": {
      "text/plain": [
       "'collage'"
      ]
     },
     "execution_count": 21,
     "metadata": {},
     "output_type": "execute_result"
    }
   ],
   "source": [
    "s1[4]"
   ]
  },
  {
   "cell_type": "markdown",
   "id": "a6de8110",
   "metadata": {},
   "source": [
    "# "
   ]
  },
  {
   "cell_type": "markdown",
   "id": "0ea6f0fa",
   "metadata": {},
   "source": [
    "### "
   ]
  },
  {
   "cell_type": "code",
   "execution_count": 24,
   "id": "9f979a27",
   "metadata": {},
   "outputs": [],
   "source": [
    "s1=1,2,3,4"
   ]
  },
  {
   "cell_type": "code",
   "execution_count": 25,
   "id": "9a2a7621",
   "metadata": {},
   "outputs": [
    {
     "data": {
      "text/plain": [
       "(1, 2, 3, 4)"
      ]
     },
     "execution_count": 25,
     "metadata": {},
     "output_type": "execute_result"
    }
   ],
   "source": [
    "s1"
   ]
  },
  {
   "cell_type": "code",
   "execution_count": 27,
   "id": "5361c722",
   "metadata": {},
   "outputs": [
    {
     "data": {
      "text/plain": [
       "1"
      ]
     },
     "execution_count": 27,
     "metadata": {},
     "output_type": "execute_result"
    }
   ],
   "source": [
    "s1[0]"
   ]
  },
  {
   "cell_type": "markdown",
   "id": "1a87c928",
   "metadata": {},
   "source": [
    "## "
   ]
  },
  {
   "cell_type": "code",
   "execution_count": 28,
   "id": "9ffdb369",
   "metadata": {},
   "outputs": [
    {
     "data": {
      "text/plain": [
       "2"
      ]
     },
     "execution_count": 28,
     "metadata": {},
     "output_type": "execute_result"
    }
   ],
   "source": [
    "s1[1]"
   ]
  },
  {
   "cell_type": "code",
   "execution_count": 29,
   "id": "eb736c49",
   "metadata": {},
   "outputs": [
    {
     "data": {
      "text/plain": [
       "3"
      ]
     },
     "execution_count": 29,
     "metadata": {},
     "output_type": "execute_result"
    }
   ],
   "source": [
    "s1[2]"
   ]
  },
  {
   "cell_type": "code",
   "execution_count": 30,
   "id": "5405914f",
   "metadata": {},
   "outputs": [
    {
     "data": {
      "text/plain": [
       "4"
      ]
     },
     "execution_count": 30,
     "metadata": {},
     "output_type": "execute_result"
    }
   ],
   "source": [
    "s1[3]"
   ]
  },
  {
   "cell_type": "code",
   "execution_count": 31,
   "id": "300ab05a",
   "metadata": {},
   "outputs": [],
   "source": [
    "s2=\"sno\",\"name\",\"department\",\"salary\""
   ]
  },
  {
   "cell_type": "code",
   "execution_count": 32,
   "id": "bc7ca56d",
   "metadata": {},
   "outputs": [
    {
     "data": {
      "text/plain": [
       "('sno', 'name', 'department', 'salary')"
      ]
     },
     "execution_count": 32,
     "metadata": {},
     "output_type": "execute_result"
    }
   ],
   "source": [
    "s2"
   ]
  },
  {
   "cell_type": "code",
   "execution_count": 33,
   "id": "4ed260a0",
   "metadata": {},
   "outputs": [
    {
     "data": {
      "text/plain": [
       "'sno'"
      ]
     },
     "execution_count": 33,
     "metadata": {},
     "output_type": "execute_result"
    }
   ],
   "source": [
    "s2[0]"
   ]
  },
  {
   "cell_type": "code",
   "execution_count": 34,
   "id": "7093c406",
   "metadata": {},
   "outputs": [
    {
     "data": {
      "text/plain": [
       "'name'"
      ]
     },
     "execution_count": 34,
     "metadata": {},
     "output_type": "execute_result"
    }
   ],
   "source": [
    "s2[1]"
   ]
  },
  {
   "cell_type": "code",
   "execution_count": 35,
   "id": "0ca5a5f9",
   "metadata": {},
   "outputs": [
    {
     "data": {
      "text/plain": [
       "'department'"
      ]
     },
     "execution_count": 35,
     "metadata": {},
     "output_type": "execute_result"
    }
   ],
   "source": [
    "s2[2]"
   ]
  },
  {
   "cell_type": "code",
   "execution_count": 36,
   "id": "3489953b",
   "metadata": {},
   "outputs": [
    {
     "data": {
      "text/plain": [
       "'salary'"
      ]
     },
     "execution_count": 36,
     "metadata": {},
     "output_type": "execute_result"
    }
   ],
   "source": [
    "s2[3]"
   ]
  },
  {
   "cell_type": "code",
   "execution_count": 5,
   "id": "29d3330a",
   "metadata": {},
   "outputs": [],
   "source": [
    "sharanya=\" iam sharanya from hyderabad and i stay in narayanakuda\""
   ]
  },
  {
   "cell_type": "code",
   "execution_count": 46,
   "id": "aa8a04cb",
   "metadata": {
    "scrolled": true
   },
   "outputs": [
    {
     "name": "stdout",
     "output_type": "stream",
     "text": [
      " iam sharanya from hyderabad and i stay in narayanakuda\n"
     ]
    }
   ],
   "source": [
    "print(sharanya)"
   ]
  },
  {
   "cell_type": "code",
   "execution_count": 48,
   "id": "d2c1a5d7",
   "metadata": {},
   "outputs": [
    {
     "data": {
      "text/plain": [
       "'n'"
      ]
     },
     "execution_count": 48,
     "metadata": {},
     "output_type": "execute_result"
    }
   ],
   "source": [
    "sharanya[10]100"
   ]
  },
  {
   "cell_type": "code",
   "execution_count": 40,
   "id": "7db19d67",
   "metadata": {},
   "outputs": [
    {
     "data": {
      "text/plain": [
       "'a'"
      ]
     },
     "execution_count": 40,
     "metadata": {},
     "output_type": "execute_result"
    }
   ],
   "source": [
    "sharanya[1]"
   ]
  },
  {
   "cell_type": "code",
   "execution_count": 41,
   "id": "eda15865",
   "metadata": {},
   "outputs": [
    {
     "data": {
      "text/plain": [
       "'m'"
      ]
     },
     "execution_count": 41,
     "metadata": {},
     "output_type": "execute_result"
    }
   ],
   "source": [
    "sharanya[2]"
   ]
  },
  {
   "cell_type": "code",
   "execution_count": 42,
   "id": "dc6c8bce",
   "metadata": {},
   "outputs": [
    {
     "data": {
      "text/plain": [
       "' '"
      ]
     },
     "execution_count": 42,
     "metadata": {},
     "output_type": "execute_result"
    }
   ],
   "source": [
    "sharanya[3]"
   ]
  },
  {
   "cell_type": "code",
   "execution_count": 43,
   "id": "a97ac776",
   "metadata": {},
   "outputs": [
    {
     "data": {
      "text/plain": [
       "'s'"
      ]
     },
     "execution_count": 43,
     "metadata": {},
     "output_type": "execute_result"
    }
   ],
   "source": [
    "sharanya[4]"
   ]
  },
  {
   "cell_type": "code",
   "execution_count": 44,
   "id": "93542134",
   "metadata": {},
   "outputs": [
    {
     "data": {
      "text/plain": [
       "'h'"
      ]
     },
     "execution_count": 44,
     "metadata": {},
     "output_type": "execute_result"
    }
   ],
   "source": [
    "sharanya[5]"
   ]
  },
  {
   "cell_type": "code",
   "execution_count": 49,
   "id": "23d67aa7",
   "metadata": {},
   "outputs": [
    {
     "data": {
      "text/plain": [
       "'i'"
      ]
     },
     "execution_count": 49,
     "metadata": {},
     "output_type": "execute_result"
    }
   ],
   "source": [
    "sharanya[1]"
   ]
  },
  {
   "cell_type": "code",
   "execution_count": 50,
   "id": "92ef7121",
   "metadata": {},
   "outputs": [
    {
     "data": {
      "text/plain": [
       "'a'"
      ]
     },
     "execution_count": 50,
     "metadata": {},
     "output_type": "execute_result"
    }
   ],
   "source": [
    "sharanya[-1]"
   ]
  },
  {
   "cell_type": "code",
   "execution_count": 51,
   "id": "e962e9a1",
   "metadata": {},
   "outputs": [
    {
     "data": {
      "text/plain": [
       "'a'"
      ]
     },
     "execution_count": 51,
     "metadata": {},
     "output_type": "execute_result"
    }
   ],
   "source": [
    "sharanya[-5]"
   ]
  },
  {
   "cell_type": "code",
   "execution_count": 52,
   "id": "0404e094",
   "metadata": {},
   "outputs": [
    {
     "data": {
      "text/plain": [
       "'r'"
      ]
     },
     "execution_count": 52,
     "metadata": {},
     "output_type": "execute_result"
    }
   ],
   "source": [
    "sharanya[-10]"
   ]
  },
  {
   "cell_type": "code",
   "execution_count": 53,
   "id": "1b8f5b11",
   "metadata": {},
   "outputs": [
    {
     "data": {
      "text/plain": [
       "'n'"
      ]
     },
     "execution_count": 53,
     "metadata": {},
     "output_type": "execute_result"
    }
   ],
   "source": [
    "sharanya[-6]"
   ]
  },
  {
   "cell_type": "code",
   "execution_count": 54,
   "id": "4ad36f77",
   "metadata": {},
   "outputs": [
    {
     "data": {
      "text/plain": [
       "'a'"
      ]
     },
     "execution_count": 54,
     "metadata": {},
     "output_type": "execute_result"
    }
   ],
   "source": [
    "sharanya[-7]"
   ]
  },
  {
   "cell_type": "code",
   "execution_count": 55,
   "id": "860524d6",
   "metadata": {},
   "outputs": [
    {
     "ename": "IndexError",
     "evalue": "string index out of range",
     "output_type": "error",
     "traceback": [
      "\u001b[1;31m---------------------------------------------------------------------------\u001b[0m",
      "\u001b[1;31mIndexError\u001b[0m                                Traceback (most recent call last)",
      "Cell \u001b[1;32mIn[55], line 1\u001b[0m\n\u001b[1;32m----> 1\u001b[0m \u001b[43msharanya\u001b[49m\u001b[43m[\u001b[49m\u001b[38;5;241;43m200\u001b[39;49m\u001b[43m]\u001b[49m\n",
      "\u001b[1;31mIndexError\u001b[0m: string index out of range"
     ]
    }
   ],
   "source": [
    "sharanya[200]"
   ]
  },
  {
   "cell_type": "code",
   "execution_count": 3,
   "id": "8da7a0a9",
   "metadata": {},
   "outputs": [],
   "source": [
    "sharany=[-5]"
   ]
  },
  {
   "cell_type": "code",
   "execution_count": 4,
   "id": "c57aef6d",
   "metadata": {},
   "outputs": [
    {
     "ename": "NameError",
     "evalue": "name 'sharanya' is not defined",
     "output_type": "error",
     "traceback": [
      "\u001b[1;31m---------------------------------------------------------------------------\u001b[0m",
      "\u001b[1;31mNameError\u001b[0m                                 Traceback (most recent call last)",
      "Cell \u001b[1;32mIn[4], line 1\u001b[0m\n\u001b[1;32m----> 1\u001b[0m \u001b[43msharanya\u001b[49m[\u001b[38;5;241m-\u001b[39m\u001b[38;5;241m5\u001b[39m]\n",
      "\u001b[1;31mNameError\u001b[0m: name 'sharanya' is not defined"
     ]
    }
   ],
   "source": [
    "sharanya[-5]"
   ]
  },
  {
   "cell_type": "code",
   "execution_count": 6,
   "id": "526d651c",
   "metadata": {},
   "outputs": [
    {
     "data": {
      "text/plain": [
       "'a'"
      ]
     },
     "execution_count": 6,
     "metadata": {},
     "output_type": "execute_result"
    }
   ],
   "source": [
    "sharanya[-5]"
   ]
  },
  {
   "cell_type": "code",
   "execution_count": 7,
   "id": "239e5c47",
   "metadata": {},
   "outputs": [],
   "source": [
    "sharanya=\"i write code\""
   ]
  },
  {
   "cell_type": "code",
   "execution_count": 8,
   "id": "c7ce8f61",
   "metadata": {},
   "outputs": [
    {
     "data": {
      "text/plain": [
       "'i write co'"
      ]
     },
     "execution_count": 8,
     "metadata": {},
     "output_type": "execute_result"
    }
   ],
   "source": [
    "sharanya[0:10:1]"
   ]
  },
  {
   "cell_type": "code",
   "execution_count": 9,
   "id": "9d45e4e9",
   "metadata": {},
   "outputs": [
    {
     "data": {
      "text/plain": [
       "'i write cod'"
      ]
     },
     "execution_count": 9,
     "metadata": {},
     "output_type": "execute_result"
    }
   ],
   "source": [
    "sharanya[0:11:1]"
   ]
  },
  {
   "cell_type": "code",
   "execution_count": 10,
   "id": "07188e73",
   "metadata": {},
   "outputs": [
    {
     "data": {
      "text/plain": [
       "'i write code'"
      ]
     },
     "execution_count": 10,
     "metadata": {},
     "output_type": "execute_result"
    }
   ],
   "source": [
    "sharanya[0:12:1]"
   ]
  },
  {
   "cell_type": "code",
   "execution_count": 11,
   "id": "1114d361",
   "metadata": {},
   "outputs": [
    {
     "data": {
      "text/plain": [
       "'iwiec'"
      ]
     },
     "execution_count": 11,
     "metadata": {},
     "output_type": "execute_result"
    }
   ],
   "source": [
    "sharanya[0:10:2]"
   ]
  },
  {
   "cell_type": "code",
   "execution_count": 12,
   "id": "da9bcfbe",
   "metadata": {},
   "outputs": [
    {
     "data": {
      "text/plain": [
       "'ireo'"
      ]
     },
     "execution_count": 12,
     "metadata": {},
     "output_type": "execute_result"
    }
   ],
   "source": [
    "sharanya[0:10:3]"
   ]
  },
  {
   "cell_type": "code",
   "execution_count": null,
   "id": "33ff96c9",
   "metadata": {},
   "outputs": [],
   "source": []
  }
 ],
 "metadata": {
  "kernelspec": {
   "display_name": "Python 3 (ipykernel)",
   "language": "python",
   "name": "python3"
  },
  "language_info": {
   "codemirror_mode": {
    "name": "ipython",
    "version": 3
   },
   "file_extension": ".py",
   "mimetype": "text/x-python",
   "name": "python",
   "nbconvert_exporter": "python",
   "pygments_lexer": "ipython3",
   "version": "3.10.9"
  }
 },
 "nbformat": 4,
 "nbformat_minor": 5
}
