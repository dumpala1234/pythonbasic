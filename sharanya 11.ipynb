{
 "cells": [
  {
   "cell_type": "code",
   "execution_count": 1,
   "id": "c9186563",
   "metadata": {},
   "outputs": [],
   "source": [
    "list = [\"sharanya\",\"car\",\"money\",\"watch\",\"bike\",\"collage\"]"
   ]
  },
  {
   "cell_type": "code",
   "execution_count": 2,
   "id": "7284845d",
   "metadata": {},
   "outputs": [
    {
     "data": {
      "text/plain": [
       "['sharanya', 'car', 'money', 'watch', 'bike', 'collage']"
      ]
     },
     "execution_count": 2,
     "metadata": {},
     "output_type": "execute_result"
    }
   ],
   "source": [
    "list"
   ]
  },
  {
   "cell_type": "code",
   "execution_count": 3,
   "id": "cc04be13",
   "metadata": {},
   "outputs": [],
   "source": [
    "a=(\"a\",\"b\",\"c\",\"d\",\"e\",\"f\",\"g\",\"h\",\"i\")"
   ]
  },
  {
   "cell_type": "code",
   "execution_count": 4,
   "id": "631e496b",
   "metadata": {},
   "outputs": [
    {
     "data": {
      "text/plain": [
       "('a', 'b', 'c', 'd', 'e', 'f', 'g', 'h', 'i')"
      ]
     },
     "execution_count": 4,
     "metadata": {},
     "output_type": "execute_result"
    }
   ],
   "source": [
    "a"
   ]
  },
  {
   "cell_type": "code",
   "execution_count": 5,
   "id": "411af44c",
   "metadata": {},
   "outputs": [],
   "source": [
    "b={1,2,3,4,5,6,7,8}"
   ]
  },
  {
   "cell_type": "code",
   "execution_count": 6,
   "id": "6a3c55cd",
   "metadata": {},
   "outputs": [],
   "source": [
    "set = {1,2,3,4,5,6,7,8,9,10}"
   ]
  },
  {
   "cell_type": "code",
   "execution_count": 7,
   "id": "aa3970c2",
   "metadata": {},
   "outputs": [],
   "source": [
    "dic= {\"key\":\"value\",\"key1\":\"value2\",\"key\":\"value2\"}"
   ]
  },
  {
   "cell_type": "code",
   "execution_count": 8,
   "id": "18c51ab9",
   "metadata": {},
   "outputs": [],
   "source": [
    "sharanya={\"name\":\"sharanya\",\"email_id\":\"dumpalasharanya@gmail.com\",\"collage\":\"kmics\",\"place\":\"narayanaguda\"}"
   ]
  },
  {
   "cell_type": "code",
   "execution_count": 9,
   "id": "0b757f5f",
   "metadata": {},
   "outputs": [
    {
     "data": {
      "text/plain": [
       "{'name': 'sharanya',\n",
       " 'email_id': 'dumpalasharanya@gmail.com',\n",
       " 'collage': 'kmics',\n",
       " 'place': 'narayanaguda'}"
      ]
     },
     "execution_count": 9,
     "metadata": {},
     "output_type": "execute_result"
    }
   ],
   "source": [
    "sharanya"
   ]
  },
  {
   "cell_type": "code",
   "execution_count": 11,
   "id": "2be3ced5",
   "metadata": {},
   "outputs": [
    {
     "data": {
      "text/plain": [
       "dict_values(['sharanya', 'dumpalasharanya@gmail.com', 'kmics', 'narayanaguda'])"
      ]
     },
     "execution_count": 11,
     "metadata": {},
     "output_type": "execute_result"
    }
   ],
   "source": [
    "sharanya.values()"
   ]
  },
  {
   "cell_type": "code",
   "execution_count": 12,
   "id": "04c2d1ff",
   "metadata": {},
   "outputs": [
    {
     "data": {
      "text/plain": [
       "dict_keys(['name', 'email_id', 'collage', 'place'])"
      ]
     },
     "execution_count": 12,
     "metadata": {},
     "output_type": "execute_result"
    }
   ],
   "source": [
    "sharanya.keys()"
   ]
  },
  {
   "cell_type": "raw",
   "id": "2b6cacdb",
   "metadata": {},
   "source": [
    "sharanya.values"
   ]
  },
  {
   "cell_type": "code",
   "execution_count": 13,
   "id": "6c27459e",
   "metadata": {},
   "outputs": [
    {
     "data": {
      "text/plain": [
       "<function dict.values>"
      ]
     },
     "execution_count": 13,
     "metadata": {},
     "output_type": "execute_result"
    }
   ],
   "source": [
    "sharanya.values"
   ]
  },
  {
   "cell_type": "code",
   "execution_count": 14,
   "id": "d5c74ff6",
   "metadata": {},
   "outputs": [
    {
     "data": {
      "text/plain": [
       "dict"
      ]
     },
     "execution_count": 14,
     "metadata": {},
     "output_type": "execute_result"
    }
   ],
   "source": [
    "type(sharanya)"
   ]
  },
  {
   "cell_type": "code",
   "execution_count": 23,
   "id": "93ec8a2f",
   "metadata": {},
   "outputs": [],
   "source": [
    "sharanya[2]=\"krishna\""
   ]
  },
  {
   "cell_type": "code",
   "execution_count": 24,
   "id": "a24bf48a",
   "metadata": {},
   "outputs": [
    {
     "data": {
      "text/plain": [
       "{'name': 'sharanya',\n",
       " 'email_id': 'dumpalasharanya@gmail.com',\n",
       " 'collage': 'kmics',\n",
       " 'place': 'narayanaguda',\n",
       " 0: 1110,\n",
       " 1: 1110,\n",
       " 2: 'krishna'}"
      ]
     },
     "execution_count": 24,
     "metadata": {},
     "output_type": "execute_result"
    }
   ],
   "source": [
    "sharanya"
   ]
  },
  {
   "cell_type": "raw",
   "id": "d304b033",
   "metadata": {},
   "source": []
  },
  {
   "cell_type": "code",
   "execution_count": 20,
   "id": "8f9aa18c",
   "metadata": {},
   "outputs": [],
   "source": [
    "sharanya[1]=1110"
   ]
  },
  {
   "cell_type": "code",
   "execution_count": 25,
   "id": "b4fe609f",
   "metadata": {},
   "outputs": [
    {
     "data": {
      "text/plain": [
       "{'name': 'sharanya',\n",
       " 'email_id': 'dumpalasharanya@gmail.com',\n",
       " 'collage': 'kmics',\n",
       " 'place': 'narayanaguda',\n",
       " 0: 1110,\n",
       " 1: 1110,\n",
       " 2: 'krishna'}"
      ]
     },
     "execution_count": 25,
     "metadata": {},
     "output_type": "execute_result"
    }
   ],
   "source": [
    "sharanya"
   ]
  },
  {
   "cell_type": "code",
   "execution_count": 27,
   "id": "51837975",
   "metadata": {},
   "outputs": [],
   "source": [
    "sharanya[3]=\"hyderabad\""
   ]
  },
  {
   "cell_type": "raw",
   "id": "3517ee20",
   "metadata": {},
   "source": [
    "sharanya"
   ]
  },
  {
   "cell_type": "code",
   "execution_count": 28,
   "id": "746c6813",
   "metadata": {},
   "outputs": [
    {
     "data": {
      "text/plain": [
       "{'name': 'sharanya',\n",
       " 'email_id': 'dumpalasharanya@gmail.com',\n",
       " 'collage': 'kmics',\n",
       " 'place': 'narayanaguda',\n",
       " 0: 1110,\n",
       " 1: 1110,\n",
       " 2: 'krishna',\n",
       " 3: 'hyderabad'}"
      ]
     },
     "execution_count": 28,
     "metadata": {},
     "output_type": "execute_result"
    }
   ],
   "source": [
    "sharanya"
   ]
  },
  {
   "cell_type": "code",
   "execution_count": 29,
   "id": "7fcf3d1d",
   "metadata": {},
   "outputs": [],
   "source": [
    "sharanya[\"dress\"]=\"shirts\""
   ]
  },
  {
   "cell_type": "code",
   "execution_count": 30,
   "id": "79d950d9",
   "metadata": {},
   "outputs": [
    {
     "data": {
      "text/plain": [
       "{'name': 'sharanya',\n",
       " 'email_id': 'dumpalasharanya@gmail.com',\n",
       " 'collage': 'kmics',\n",
       " 'place': 'narayanaguda',\n",
       " 0: 1110,\n",
       " 1: 1110,\n",
       " 2: 'krishna',\n",
       " 3: 'hyderabad',\n",
       " 'dress': 'shirts'}"
      ]
     },
     "execution_count": 30,
     "metadata": {},
     "output_type": "execute_result"
    }
   ],
   "source": [
    "sharanya"
   ]
  },
  {
   "cell_type": "code",
   "execution_count": 39,
   "id": "59802a29",
   "metadata": {},
   "outputs": [],
   "source": [
    "t=(\"sharanya\",\"collage\",\"car\",\"book\",\"bike\")"
   ]
  },
  {
   "cell_type": "code",
   "execution_count": 40,
   "id": "8d2c720a",
   "metadata": {},
   "outputs": [
    {
     "data": {
      "text/plain": [
       "('sharanya', 'collage', 'car', 'book', 'bike')"
      ]
     },
     "execution_count": 40,
     "metadata": {},
     "output_type": "execute_result"
    }
   ],
   "source": [
    "t"
   ]
  },
  {
   "cell_type": "code",
   "execution_count": 41,
   "id": "131f7a14",
   "metadata": {},
   "outputs": [
    {
     "ename": "TypeError",
     "evalue": "'tuple' object does not support item assignment",
     "output_type": "error",
     "traceback": [
      "\u001b[1;31m---------------------------------------------------------------------------\u001b[0m",
      "\u001b[1;31mTypeError\u001b[0m                                 Traceback (most recent call last)",
      "Cell \u001b[1;32mIn[41], line 1\u001b[0m\n\u001b[1;32m----> 1\u001b[0m t[\u001b[38;5;241m0\u001b[39m]\u001b[38;5;241m=\u001b[39m\u001b[38;5;124m\"\u001b[39m\u001b[38;5;124mrama\u001b[39m\u001b[38;5;124m\"\u001b[39m\n",
      "\u001b[1;31mTypeError\u001b[0m: 'tuple' object does not support item assignment"
     ]
    }
   ],
   "source": [
    "t[0]=\"rama\""
   ]
  },
  {
   "cell_type": "code",
   "execution_count": 38,
   "id": "96ca6b35",
   "metadata": {},
   "outputs": [
    {
     "data": {
      "text/plain": [
       "['rama', 'collage', 'car', 'book', 'bike']"
      ]
     },
     "execution_count": 38,
     "metadata": {},
     "output_type": "execute_result"
    }
   ],
   "source": [
    "t"
   ]
  },
  {
   "cell_type": "code",
   "execution_count": 42,
   "id": "b5b8de0c",
   "metadata": {},
   "outputs": [],
   "source": [
    "t=[\"sharanya\",\"collage\",\"car\",\"book\",\"bike\"]"
   ]
  },
  {
   "cell_type": "code",
   "execution_count": 43,
   "id": "02acf399",
   "metadata": {},
   "outputs": [
    {
     "data": {
      "text/plain": [
       "['sharanya', 'collage', 'car', 'book', 'bike']"
      ]
     },
     "execution_count": 43,
     "metadata": {},
     "output_type": "execute_result"
    }
   ],
   "source": [
    "t"
   ]
  },
  {
   "cell_type": "code",
   "execution_count": 45,
   "id": "8e4d7dec",
   "metadata": {},
   "outputs": [],
   "source": [
    "t[0]=\"rama\""
   ]
  },
  {
   "cell_type": "code",
   "execution_count": 46,
   "id": "594d010a",
   "metadata": {},
   "outputs": [
    {
     "data": {
      "text/plain": [
       "['rama', 'collage', 'car', 'book', 'bike']"
      ]
     },
     "execution_count": 46,
     "metadata": {},
     "output_type": "execute_result"
    }
   ],
   "source": [
    "t"
   ]
  },
  {
   "cell_type": "code",
   "execution_count": 66,
   "id": "b4b7aa7f",
   "metadata": {},
   "outputs": [],
   "source": [
    "f=open(\"sharanya.txt\",\"w\")"
   ]
  },
  {
   "cell_type": "code",
   "execution_count": 67,
   "id": "becf0f53",
   "metadata": {},
   "outputs": [
    {
     "data": {
      "text/plain": [
       "63"
      ]
     },
     "execution_count": 67,
     "metadata": {},
     "output_type": "execute_result"
    }
   ],
   "source": [
    "f.write(\"this is my first file writen in jupter notebook on 1-april-2023\")\n"
   ]
  },
  {
   "cell_type": "code",
   "execution_count": 68,
   "id": "7cbca4e0",
   "metadata": {},
   "outputs": [],
   "source": [
    "f.close()"
   ]
  },
  {
   "cell_type": "code",
   "execution_count": 63,
   "id": "e9950708",
   "metadata": {},
   "outputs": [],
   "source": [
    "f=open(\"sharanya.txt\",\"w\")"
   ]
  },
  {
   "cell_type": "code",
   "execution_count": 64,
   "id": "84a52b79",
   "metadata": {},
   "outputs": [
    {
     "data": {
      "text/plain": [
       "17"
      ]
     },
     "execution_count": 64,
     "metadata": {},
     "output_type": "execute_result"
    }
   ],
   "source": [
    "f.write(\"this my new dress\")\n"
   ]
  },
  {
   "cell_type": "code",
   "execution_count": 65,
   "id": "62ce7599",
   "metadata": {},
   "outputs": [
    {
     "data": {
      "text/plain": [
       "<function TextIOWrapper.close()>"
      ]
     },
     "execution_count": 65,
     "metadata": {},
     "output_type": "execute_result"
    }
   ],
   "source": [
    "f.close"
   ]
  },
  {
   "cell_type": "code",
   "execution_count": null,
   "id": "fa034c8c",
   "metadata": {},
   "outputs": [],
   "source": []
  },
  {
   "cell_type": "code",
   "execution_count": null,
   "id": "984d3473",
   "metadata": {},
   "outputs": [],
   "source": []
  },
  {
   "cell_type": "code",
   "execution_count": null,
   "id": "092e8a55",
   "metadata": {},
   "outputs": [],
   "source": []
  }
 ],
 "metadata": {
  "kernelspec": {
   "display_name": "Python 3 (ipykernel)",
   "language": "python",
   "name": "python3"
  },
  "language_info": {
   "codemirror_mode": {
    "name": "ipython",
    "version": 3
   },
   "file_extension": ".py",
   "mimetype": "text/x-python",
   "name": "python",
   "nbconvert_exporter": "python",
   "pygments_lexer": "ipython3",
   "version": "3.10.9"
  }
 },
 "nbformat": 4,
 "nbformat_minor": 5
}
