{
 "cells": [
  {
   "cell_type": "code",
   "execution_count": 1,
   "id": "0845db49",
   "metadata": {},
   "outputs": [],
   "source": [
    "strings=\"sharanya\",\"car\",\"holidays\",\"bike\",\"collage\""
   ]
  },
  {
   "cell_type": "code",
   "execution_count": 2,
   "id": "642e9842",
   "metadata": {},
   "outputs": [
    {
     "ename": "SyntaxError",
     "evalue": "invalid syntax (3535763463.py, line 1)",
     "output_type": "error",
     "traceback": [
      "\u001b[1;36m  Cell \u001b[1;32mIn[2], line 1\u001b[1;36m\u001b[0m\n\u001b[1;33m    strings|\u001b[0m\n\u001b[1;37m            ^\u001b[0m\n\u001b[1;31mSyntaxError\u001b[0m\u001b[1;31m:\u001b[0m invalid syntax\n"
     ]
    }
   ],
   "source": [
    "strings|\n"
   ]
  },
  {
   "cell_type": "code",
   "execution_count": 3,
   "id": "11aeafca",
   "metadata": {},
   "outputs": [],
   "source": [
    "strings=\"sharanya\",\"car\",\"holidays\",\"bike\",\"collage\""
   ]
  },
  {
   "cell_type": "code",
   "execution_count": 4,
   "id": "894afc69",
   "metadata": {},
   "outputs": [
    {
     "data": {
      "text/plain": [
       "('sharanya', 'car', 'holidays', 'bike', 'collage')"
      ]
     },
     "execution_count": 4,
     "metadata": {},
     "output_type": "execute_result"
    }
   ],
   "source": [
    "strings"
   ]
  },
  {
   "cell_type": "code",
   "execution_count": 5,
   "id": "f5f2495d",
   "metadata": {},
   "outputs": [
    {
     "name": "stdout",
     "output_type": "stream",
     "text": [
      "('sharanya', 'car', 'holidays', 'bike', 'collage')\n"
     ]
    }
   ],
   "source": [
    "print(strings)"
   ]
  },
  {
   "cell_type": "code",
   "execution_count": 6,
   "id": "43abd3e9",
   "metadata": {},
   "outputs": [
    {
     "name": "stdout",
     "output_type": "stream",
     "text": [
      "sharanya\n"
     ]
    }
   ],
   "source": [
    "print(\"sharanya\")"
   ]
  },
  {
   "cell_type": "code",
   "execution_count": 7,
   "id": "a5d95cf6",
   "metadata": {},
   "outputs": [
    {
     "name": "stdout",
     "output_type": "stream",
     "text": [
      "swetha\n"
     ]
    }
   ],
   "source": [
    "print(\"swetha\")"
   ]
  },
  {
   "cell_type": "code",
   "execution_count": 8,
   "id": "4c449dad",
   "metadata": {},
   "outputs": [
    {
     "name": "stdout",
     "output_type": "stream",
     "text": [
      "hari priya\n"
     ]
    }
   ],
   "source": [
    "print(\"hari priya\")"
   ]
  },
  {
   "cell_type": "code",
   "execution_count": 9,
   "id": "7cdfb5b7",
   "metadata": {},
   "outputs": [
    {
     "name": "stdout",
     "output_type": "stream",
     "text": [
      "hyath nagar\n"
     ]
    }
   ],
   "source": [
    "print(\"hyath nagar\")"
   ]
  },
  {
   "cell_type": "code",
   "execution_count": 10,
   "id": "2b0e3e4e",
   "metadata": {},
   "outputs": [
    {
     "name": "stdout",
     "output_type": "stream",
     "text": [
      "keshav memorial\n"
     ]
    }
   ],
   "source": [
    "print(\"keshav memorial\")"
   ]
  },
  {
   "cell_type": "code",
   "execution_count": 11,
   "id": "30781b8c",
   "metadata": {},
   "outputs": [
    {
     "name": "stdout",
     "output_type": "stream",
     "text": [
      "narayanaguda\n"
     ]
    }
   ],
   "source": [
    "print(\"narayanaguda\")"
   ]
  },
  {
   "cell_type": "code",
   "execution_count": 12,
   "id": "f100c199",
   "metadata": {},
   "outputs": [
    {
     "name": "stdout",
     "output_type": "stream",
     "text": [
      "anaconda\n"
     ]
    }
   ],
   "source": [
    "print(\"anaconda\")"
   ]
  },
  {
   "cell_type": "code",
   "execution_count": 13,
   "id": "e4bc03ea",
   "metadata": {},
   "outputs": [
    {
     "name": "stdout",
     "output_type": "stream",
     "text": [
      "shailaja\n"
     ]
    }
   ],
   "source": [
    "print(\"shailaja\")"
   ]
  },
  {
   "cell_type": "code",
   "execution_count": 14,
   "id": "593616c8",
   "metadata": {},
   "outputs": [],
   "source": [
    "s1=[\"sharanya\",\"car\",\"bike\",\"book\",\"collage\"]"
   ]
  },
  {
   "cell_type": "code",
   "execution_count": 15,
   "id": "250a9fa1",
   "metadata": {},
   "outputs": [
    {
     "data": {
      "text/plain": [
       "['sharanya', 'car', 'bike', 'book', 'collage']"
      ]
     },
     "execution_count": 15,
     "metadata": {},
     "output_type": "execute_result"
    }
   ],
   "source": [
    "s1"
   ]
  },
  {
   "cell_type": "code",
   "execution_count": 23,
   "id": "ec6f1a67",
   "metadata": {},
   "outputs": [
    {
     "data": {
      "text/plain": [
       "'sharanya'"
      ]
     },
     "execution_count": 23,
     "metadata": {},
     "output_type": "execute_result"
    }
   ],
   "source": [
    "s1[0]"
   ]
  },
  {
   "cell_type": "code",
   "execution_count": 17,
   "id": "2dd5f501",
   "metadata": {},
   "outputs": [
    {
     "data": {
      "text/plain": [
       "'sharanya'"
      ]
     },
     "execution_count": 17,
     "metadata": {},
     "output_type": "execute_result"
    }
   ],
   "source": [
    "s1[0]"
   ]
  },
  {
   "cell_type": "code",
   "execution_count": 18,
   "id": "ec613fa7",
   "metadata": {},
   "outputs": [
    {
     "data": {
      "text/plain": [
       "'car'"
      ]
     },
     "execution_count": 18,
     "metadata": {},
     "output_type": "execute_result"
    }
   ],
   "source": [
    "s1[1]"
   ]
  },
  {
   "cell_type": "code",
   "execution_count": 19,
   "id": "fee308cf",
   "metadata": {},
   "outputs": [
    {
     "data": {
      "text/plain": [
       "'bike'"
      ]
     },
     "execution_count": 19,
     "metadata": {},
     "output_type": "execute_result"
    }
   ],
   "source": [
    "s1[2]"
   ]
  },
  {
   "cell_type": "code",
   "execution_count": 20,
   "id": "6d382955",
   "metadata": {},
   "outputs": [
    {
     "data": {
      "text/plain": [
       "'book'"
      ]
     },
     "execution_count": 20,
     "metadata": {},
     "output_type": "execute_result"
    }
   ],
   "source": [
    "s1[3]\n",
    "  "
   ]
  },
  {
   "cell_type": "code",
   "execution_count": 21,
   "id": "26074c52",
   "metadata": {},
   "outputs": [
    {
     "data": {
      "text/plain": [
       "'collage'"
      ]
     },
     "execution_count": 21,
     "metadata": {},
     "output_type": "execute_result"
    }
   ],
   "source": [
    "s1[4]"
   ]
  },
  {
   "cell_type": "markdown",
   "id": "0b28738e",
   "metadata": {},
   "source": [
    "# "
   ]
  },
  {
   "cell_type": "markdown",
   "id": "ab6c46d1",
   "metadata": {},
   "source": [
    "### "
   ]
  },
  {
   "cell_type": "code",
   "execution_count": 24,
   "id": "4aa76572",
   "metadata": {},
   "outputs": [],
   "source": [
    "s1=1,2,3,4"
   ]
  },
  {
   "cell_type": "code",
   "execution_count": 25,
   "id": "83fcb393",
   "metadata": {},
   "outputs": [
    {
     "data": {
      "text/plain": [
       "(1, 2, 3, 4)"
      ]
     },
     "execution_count": 25,
     "metadata": {},
     "output_type": "execute_result"
    }
   ],
   "source": [
    "s1"
   ]
  },
  {
   "cell_type": "code",
   "execution_count": 27,
   "id": "13a036c0",
   "metadata": {},
   "outputs": [
    {
     "data": {
      "text/plain": [
       "1"
      ]
     },
     "execution_count": 27,
     "metadata": {},
     "output_type": "execute_result"
    }
   ],
   "source": [
    "s1[0]"
   ]
  },
  {
   "cell_type": "markdown",
   "id": "5c978476",
   "metadata": {},
   "source": [
    "## "
   ]
  },
  {
   "cell_type": "code",
   "execution_count": 28,
   "id": "f74ec915",
   "metadata": {},
   "outputs": [
    {
     "data": {
      "text/plain": [
       "2"
      ]
     },
     "execution_count": 28,
     "metadata": {},
     "output_type": "execute_result"
    }
   ],
   "source": [
    "s1[1]"
   ]
  },
  {
   "cell_type": "code",
   "execution_count": 29,
   "id": "1bb232c5",
   "metadata": {},
   "outputs": [
    {
     "data": {
      "text/plain": [
       "3"
      ]
     },
     "execution_count": 29,
     "metadata": {},
     "output_type": "execute_result"
    }
   ],
   "source": [
    "s1[2]"
   ]
  },
  {
   "cell_type": "code",
   "execution_count": 30,
   "id": "0841153b",
   "metadata": {},
   "outputs": [
    {
     "data": {
      "text/plain": [
       "4"
      ]
     },
     "execution_count": 30,
     "metadata": {},
     "output_type": "execute_result"
    }
   ],
   "source": [
    "s1[3]"
   ]
  },
  {
   "cell_type": "code",
   "execution_count": 31,
   "id": "fef15947",
   "metadata": {},
   "outputs": [],
   "source": [
    "s2=\"sno\",\"name\",\"department\",\"salary\""
   ]
  },
  {
   "cell_type": "code",
   "execution_count": 32,
   "id": "debd0194",
   "metadata": {},
   "outputs": [
    {
     "data": {
      "text/plain": [
       "('sno', 'name', 'department', 'salary')"
      ]
     },
     "execution_count": 32,
     "metadata": {},
     "output_type": "execute_result"
    }
   ],
   "source": [
    "s2"
   ]
  },
  {
   "cell_type": "code",
   "execution_count": 33,
   "id": "939d134c",
   "metadata": {},
   "outputs": [
    {
     "data": {
      "text/plain": [
       "'sno'"
      ]
     },
     "execution_count": 33,
     "metadata": {},
     "output_type": "execute_result"
    }
   ],
   "source": [
    "s2[0]"
   ]
  },
  {
   "cell_type": "code",
   "execution_count": 34,
   "id": "b6d043ef",
   "metadata": {},
   "outputs": [
    {
     "data": {
      "text/plain": [
       "'name'"
      ]
     },
     "execution_count": 34,
     "metadata": {},
     "output_type": "execute_result"
    }
   ],
   "source": [
    "s2[1]"
   ]
  },
  {
   "cell_type": "code",
   "execution_count": 35,
   "id": "c563a39b",
   "metadata": {},
   "outputs": [
    {
     "data": {
      "text/plain": [
       "'department'"
      ]
     },
     "execution_count": 35,
     "metadata": {},
     "output_type": "execute_result"
    }
   ],
   "source": [
    "s2[2]"
   ]
  },
  {
   "cell_type": "code",
   "execution_count": 36,
   "id": "f1df2bc4",
   "metadata": {},
   "outputs": [
    {
     "data": {
      "text/plain": [
       "'salary'"
      ]
     },
     "execution_count": 36,
     "metadata": {},
     "output_type": "execute_result"
    }
   ],
   "source": [
    "s2[3]"
   ]
  },
  {
   "cell_type": "code",
   "execution_count": 5,
   "id": "56d1108c",
   "metadata": {},
   "outputs": [],
   "source": [
    "sharanya=\" iam sharanya from hyderabad and i stay in narayanakuda\""
   ]
  },
  {
   "cell_type": "code",
   "execution_count": 46,
   "id": "92656224",
   "metadata": {
    "scrolled": true
   },
   "outputs": [
    {
     "name": "stdout",
     "output_type": "stream",
     "text": [
      " iam sharanya from hyderabad and i stay in narayanakuda\n"
     ]
    }
   ],
   "source": [
    "print(sharanya)"
   ]
  },
  {
   "cell_type": "code",
   "execution_count": 48,
   "id": "ba0af964",
   "metadata": {},
   "outputs": [
    {
     "data": {
      "text/plain": [
       "'n'"
      ]
     },
     "execution_count": 48,
     "metadata": {},
     "output_type": "execute_result"
    }
   ],
   "source": [
    "sharanya[10]100"
   ]
  },
  {
   "cell_type": "code",
   "execution_count": 40,
   "id": "97037a62",
   "metadata": {},
   "outputs": [
    {
     "data": {
      "text/plain": [
       "'a'"
      ]
     },
     "execution_count": 40,
     "metadata": {},
     "output_type": "execute_result"
    }
   ],
   "source": [
    "sharanya[1]"
   ]
  },
  {
   "cell_type": "code",
   "execution_count": 41,
   "id": "ec2c328f",
   "metadata": {},
   "outputs": [
    {
     "data": {
      "text/plain": [
       "'m'"
      ]
     },
     "execution_count": 41,
     "metadata": {},
     "output_type": "execute_result"
    }
   ],
   "source": [
    "sharanya[2]"
   ]
  },
  {
   "cell_type": "code",
   "execution_count": 42,
   "id": "f389c62e",
   "metadata": {},
   "outputs": [
    {
     "data": {
      "text/plain": [
       "' '"
      ]
     },
     "execution_count": 42,
     "metadata": {},
     "output_type": "execute_result"
    }
   ],
   "source": [
    "sharanya[3]"
   ]
  },
  {
   "cell_type": "code",
   "execution_count": 43,
   "id": "3e1f8609",
   "metadata": {},
   "outputs": [
    {
     "data": {
      "text/plain": [
       "'s'"
      ]
     },
     "execution_count": 43,
     "metadata": {},
     "output_type": "execute_result"
    }
   ],
   "source": [
    "sharanya[4]"
   ]
  },
  {
   "cell_type": "code",
   "execution_count": 44,
   "id": "71f1afb5",
   "metadata": {},
   "outputs": [
    {
     "data": {
      "text/plain": [
       "'h'"
      ]
     },
     "execution_count": 44,
     "metadata": {},
     "output_type": "execute_result"
    }
   ],
   "source": [
    "sharanya[5]"
   ]
  },
  {
   "cell_type": "code",
   "execution_count": 49,
   "id": "ad30f5e9",
   "metadata": {},
   "outputs": [
    {
     "data": {
      "text/plain": [
       "'i'"
      ]
     },
     "execution_count": 49,
     "metadata": {},
     "output_type": "execute_result"
    }
   ],
   "source": [
    "sharanya[1]"
   ]
  },
  {
   "cell_type": "code",
   "execution_count": 50,
   "id": "ada1667d",
   "metadata": {},
   "outputs": [
    {
     "data": {
      "text/plain": [
       "'a'"
      ]
     },
     "execution_count": 50,
     "metadata": {},
     "output_type": "execute_result"
    }
   ],
   "source": [
    "sharanya[-1]"
   ]
  },
  {
   "cell_type": "code",
   "execution_count": 51,
   "id": "feb86856",
   "metadata": {},
   "outputs": [
    {
     "data": {
      "text/plain": [
       "'a'"
      ]
     },
     "execution_count": 51,
     "metadata": {},
     "output_type": "execute_result"
    }
   ],
   "source": [
    "sharanya[-5]"
   ]
  },
  {
   "cell_type": "code",
   "execution_count": 52,
   "id": "85cbb849",
   "metadata": {},
   "outputs": [
    {
     "data": {
      "text/plain": [
       "'r'"
      ]
     },
     "execution_count": 52,
     "metadata": {},
     "output_type": "execute_result"
    }
   ],
   "source": [
    "sharanya[-10]"
   ]
  },
  {
   "cell_type": "code",
   "execution_count": 53,
   "id": "a39e6272",
   "metadata": {},
   "outputs": [
    {
     "data": {
      "text/plain": [
       "'n'"
      ]
     },
     "execution_count": 53,
     "metadata": {},
     "output_type": "execute_result"
    }
   ],
   "source": [
    "sharanya[-6]"
   ]
  },
  {
   "cell_type": "code",
   "execution_count": 54,
   "id": "9d9f1bf9",
   "metadata": {},
   "outputs": [
    {
     "data": {
      "text/plain": [
       "'a'"
      ]
     },
     "execution_count": 54,
     "metadata": {},
     "output_type": "execute_result"
    }
   ],
   "source": [
    "sharanya[-7]"
   ]
  },
  {
   "cell_type": "code",
   "execution_count": 55,
   "id": "734aa940",
   "metadata": {},
   "outputs": [
    {
     "ename": "IndexError",
     "evalue": "string index out of range",
     "output_type": "error",
     "traceback": [
      "\u001b[1;31m---------------------------------------------------------------------------\u001b[0m",
      "\u001b[1;31mIndexError\u001b[0m                                Traceback (most recent call last)",
      "Cell \u001b[1;32mIn[55], line 1\u001b[0m\n\u001b[1;32m----> 1\u001b[0m \u001b[43msharanya\u001b[49m\u001b[43m[\u001b[49m\u001b[38;5;241;43m200\u001b[39;49m\u001b[43m]\u001b[49m\n",
      "\u001b[1;31mIndexError\u001b[0m: string index out of range"
     ]
    }
   ],
   "source": [
    "sharanya[200]"
   ]
  },
  {
   "cell_type": "code",
   "execution_count": 3,
   "id": "e06db1c3",
   "metadata": {},
   "outputs": [],
   "source": [
    "sharany=[-5]"
   ]
  },
  {
   "cell_type": "code",
   "execution_count": 4,
   "id": "a0bdf34a",
   "metadata": {},
   "outputs": [
    {
     "ename": "NameError",
     "evalue": "name 'sharanya' is not defined",
     "output_type": "error",
     "traceback": [
      "\u001b[1;31m---------------------------------------------------------------------------\u001b[0m",
      "\u001b[1;31mNameError\u001b[0m                                 Traceback (most recent call last)",
      "Cell \u001b[1;32mIn[4], line 1\u001b[0m\n\u001b[1;32m----> 1\u001b[0m \u001b[43msharanya\u001b[49m[\u001b[38;5;241m-\u001b[39m\u001b[38;5;241m5\u001b[39m]\n",
      "\u001b[1;31mNameError\u001b[0m: name 'sharanya' is not defined"
     ]
    }
   ],
   "source": [
    "sharanya[-5]"
   ]
  },
  {
   "cell_type": "code",
   "execution_count": 6,
   "id": "506a8e68",
   "metadata": {},
   "outputs": [
    {
     "data": {
      "text/plain": [
       "'a'"
      ]
     },
     "execution_count": 6,
     "metadata": {},
     "output_type": "execute_result"
    }
   ],
   "source": [
    "sharanya[-5]"
   ]
  },
  {
   "cell_type": "code",
   "execution_count": 7,
   "id": "64597448",
   "metadata": {},
   "outputs": [],
   "source": [
    "sharanya=\"i write code\""
   ]
  },
  {
   "cell_type": "code",
   "execution_count": 8,
   "id": "28a95af4",
   "metadata": {},
   "outputs": [
    {
     "data": {
      "text/plain": [
       "'i write co'"
      ]
     },
     "execution_count": 8,
     "metadata": {},
     "output_type": "execute_result"
    }
   ],
   "source": [
    "sharanya[0:10:1]"
   ]
  },
  {
   "cell_type": "code",
   "execution_count": 9,
   "id": "a5ebfca0",
   "metadata": {},
   "outputs": [
    {
     "data": {
      "text/plain": [
       "'i write cod'"
      ]
     },
     "execution_count": 9,
     "metadata": {},
     "output_type": "execute_result"
    }
   ],
   "source": [
    "sharanya[0:11:1]"
   ]
  },
  {
   "cell_type": "code",
   "execution_count": 10,
   "id": "77c3ace9",
   "metadata": {},
   "outputs": [
    {
     "data": {
      "text/plain": [
       "'i write code'"
      ]
     },
     "execution_count": 10,
     "metadata": {},
     "output_type": "execute_result"
    }
   ],
   "source": [
    "sharanya[0:12:1]"
   ]
  },
  {
   "cell_type": "code",
   "execution_count": 11,
   "id": "8300f4ee",
   "metadata": {},
   "outputs": [
    {
     "data": {
      "text/plain": [
       "'iwiec'"
      ]
     },
     "execution_count": 11,
     "metadata": {},
     "output_type": "execute_result"
    }
   ],
   "source": [
    "sharanya[0:10:2]"
   ]
  },
  {
   "cell_type": "code",
   "execution_count": 12,
   "id": "32206dda",
   "metadata": {},
   "outputs": [
    {
     "data": {
      "text/plain": [
       "'ireo'"
      ]
     },
     "execution_count": 12,
     "metadata": {},
     "output_type": "execute_result"
    }
   ],
   "source": [
    "sharanya[0:10:3]"
   ]
  },
  {
   "cell_type": "code",
   "execution_count": null,
   "id": "465aad46",
   "metadata": {},
   "outputs": [],
   "source": []
  }
 ],
 "metadata": {
  "kernelspec": {
   "display_name": "Python 3 (ipykernel)",
   "language": "python",
   "name": "python3"
  },
  "language_info": {
   "codemirror_mode": {
    "name": "ipython",
    "version": 3
   },
   "file_extension": ".py",
   "mimetype": "text/x-python",
   "name": "python",
   "nbconvert_exporter": "python",
   "pygments_lexer": "ipython3",
   "version": "3.10.9"
  }
 },
 "nbformat": 4,
 "nbformat_minor": 5
}
