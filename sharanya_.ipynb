{
 "cells": [
  {
   "cell_type": "markdown",
   "id": "127ac03b",
   "metadata": {},
   "source": [
    "# condition"
   ]
  },
  {
   "cell_type": "markdown",
   "id": "b1e0e3a8",
   "metadata": {},
   "source": [
    "# \"\"\"condition has 3 modules\n",
    "if\n",
    "elif\n",
    "else\"\"\""
   ]
  },
  {
   "cell_type": "code",
   "execution_count": null,
   "id": "29556e92",
   "metadata": {},
   "outputs": [],
   "source": [
    "if condition:\n",
    "    statement\n",
    "elif conditon1:\n",
    "    statement1\n",
    "elif condition2:\n",
    "    statement2\n",
    "elif condition3:\n",
    "    statement3\n",
    "elif:\n",
    "    end the statement\n",
    "    \n",
    "\n",
    "    \n"
   ]
  },
  {
   "cell_type": "code",
   "execution_count": 5,
   "id": "8b91e007",
   "metadata": {},
   "outputs": [
    {
     "name": "stdout",
     "output_type": "stream",
     "text": [
      "20\n"
     ]
    }
   ],
   "source": [
    "a=10\n",
    "b=20\n",
    "c=a+b\n",
    "if a > b:\n",
    "  print(c)\n",
    "elif a<b:\n",
    "  print(b)\n",
    "elif a!=b:\n",
    "  print(c)\n",
    "else:\n",
    "    print(\"enter the value:\")"
   ]
  },
  {
   "cell_type": "code",
   "execution_count": 1,
   "id": "478a2d6a",
   "metadata": {},
   "outputs": [
    {
     "name": "stdout",
     "output_type": "stream",
     "text": [
      "b is grt then a\n"
     ]
    }
   ],
   "source": [
    "a=10\n",
    "b=20\n",
    "if a>b:\n",
    "   print(\"a is grt then b\")\n",
    "elif b>a:\n",
    "   print(\"b is grt then a\") "
   ]
  },
  {
   "cell_type": "code",
   "execution_count": 14,
   "id": "7ab7fc14",
   "metadata": {},
   "outputs": [
    {
     "name": "stdout",
     "output_type": "stream",
     "text": [
      " 1010\n"
     ]
    }
   ],
   "source": [
    "\n",
    "number = 10\n",
    "a= f'{number : b}'\n",
    "print(a)"
   ]
  },
  {
   "cell_type": "code",
   "execution_count": 18,
   "id": "ae5916e5",
   "metadata": {
    "scrolled": true
   },
   "outputs": [
    {
     "name": "stdout",
     "output_type": "stream",
     "text": [
      " 11110\n"
     ]
    }
   ],
   "source": [
    "number2 =30\n",
    "b = f'{number2: 0b}'\n",
    "print(b)"
   ]
  },
  {
   "cell_type": "markdown",
   "id": "46644465",
   "metadata": {},
   "source": [
    "number3=30\n",
    "c=f'{number2: 010b}'\n",
    "print(c)"
   ]
  },
  {
   "cell_type": "markdown",
   "id": "9580f8dd",
   "metadata": {},
   "source": []
  },
  {
   "cell_type": "raw",
   "id": "d48bd23e",
   "metadata": {},
   "source": []
  },
  {
   "cell_type": "code",
   "execution_count": 16,
   "id": "b7e9718b",
   "metadata": {},
   "outputs": [
    {
     "name": "stdout",
     "output_type": "stream",
     "text": [
      " 000011110\n"
     ]
    }
   ],
   "source": [
    "number3=30\n",
    "c=f'{number2: 010b}'\n",
    "print(c)"
   ]
  },
  {
   "cell_type": "markdown",
   "id": "e887e068",
   "metadata": {},
   "source": [
    "# and or operation"
   ]
  },
  {
   "cell_type": "code",
   "execution_count": 1,
   "id": "d2d8ba96",
   "metadata": {},
   "outputs": [
    {
     "name": "stdout",
     "output_type": "stream",
     "text": [
      "10\n"
     ]
    }
   ],
   "source": [
    "a=10\n",
    "b=20\n",
    "\n",
    "if a== 10 or a==20:\n",
    "    print(a)"
   ]
  },
  {
   "cell_type": "code",
   "execution_count": 2,
   "id": "060dac9d",
   "metadata": {},
   "outputs": [],
   "source": [
    "if a==10 and a==20:\n",
    "    print(a)"
   ]
  },
  {
   "cell_type": "markdown",
   "id": "56254bcd",
   "metadata": {},
   "source": [
    "# calculator"
   ]
  },
  {
   "cell_type": "code",
   "execution_count": null,
   "id": "5895e30f",
   "metadata": {},
   "outputs": [
    {
     "name": "stdout",
     "output_type": "stream",
     "text": [
      "enter a value5\n",
      "enter b value5\n"
     ]
    }
   ],
   "source": [
    "a=int(input(\"enter a value\"))\n",
    "b=int(input(\"enter b value\"))\n",
    "operations=input(\"enter a operation,('+','-','*','%','/','//')\")\n",
    "\n",
    "\n",
    "if operations ==\"+\":\n",
    "    print (\"here we are performing addition operation\",a+b)\n",
    "elif operations ==\"-\":\n",
    "    print(\"here we are performing substraction operation\",a-b)\n",
    "elif operations ==\"*\":\n",
    "    print(\"here we are performing multiplication operation\",a*b)\n",
    "elif operations ==\"/\":\n",
    "    print (\"here we are performing division operation\",a/b)\n",
    "elif operations ==\"//\":\n",
    "    print(\"here we are performing divsion operation without decimal point\",a//b)\n",
    "elif operations ==\"%\":\n",
    "    print(\"here we are performing modular operation without decimal point\",a%b)\n",
    "else:\n",
    "    print(\"print enter the valid operation\")"
   ]
  },
  {
   "cell_type": "code",
   "execution_count": 3,
   "id": "381ec73e",
   "metadata": {},
   "outputs": [
    {
     "name": "stdout",
     "output_type": "stream",
     "text": [
      "enter a value5\n",
      "enter b value5\n"
     ]
    }
   ],
   "source": [
    "a=int(input(\"enter a value\"))\n",
    "b=int(input(\"enter b value\"))\n",
    "operations=(\"enter a operation,('+','-','*','%','/','//')\")\n"
   ]
  },
  {
   "cell_type": "code",
   "execution_count": null,
   "id": "98e31376",
   "metadata": {},
   "outputs": [],
   "source": []
  }
 ],
 "metadata": {
  "kernelspec": {
   "display_name": "Python 3 (ipykernel)",
   "language": "python",
   "name": "python3"
  },
  "language_info": {
   "codemirror_mode": {
    "name": "ipython",
    "version": 3
   },
   "file_extension": ".py",
   "mimetype": "text/x-python",
   "name": "python",
   "nbconvert_exporter": "python",
   "pygments_lexer": "ipython3",
   "version": "3.10.9"
  }
 },
 "nbformat": 4,
 "nbformat_minor": 5
}
